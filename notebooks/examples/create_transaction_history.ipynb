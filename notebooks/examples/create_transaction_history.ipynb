{
 "cells": [
  {
   "cell_type": "code",
   "execution_count": null,
   "metadata": {},
   "outputs": [],
   "source": [
    "from src.config import DATA_PATH_USER\n",
    "from src.portfoliomanager import add_a_row_to_transaction_history, date_to_pd_timestamp, define_empty_transaction_history"
   ]
  },
  {
   "cell_type": "markdown",
   "metadata": {},
   "source": [
    "# Create a new transaction history"
   ]
  },
  {
   "cell_type": "code",
   "execution_count": null,
   "metadata": {},
   "outputs": [],
   "source": [
    "transaction_history = define_empty_transaction_history()"
   ]
  },
  {
   "cell_type": "markdown",
   "metadata": {},
   "source": [
    "# Add Elements to the history"
   ]
  },
  {
   "cell_type": "code",
   "execution_count": null,
   "metadata": {},
   "outputs": [],
   "source": [
    "transaction_history = add_a_row_to_transaction_history(\n",
    "    date = date_to_pd_timestamp(day = 2, month = 12, year = 24),\n",
    "    asset = 'NRGV',\n",
    "    market = 'NASDAQ',\n",
    "    amount = 77,\n",
    "    position = 'buy',\n",
    "    house = 'MIDAS',\n",
    "    comment = 'some savings',\n",
    "    transaction_history = transaction_history\n",
    "    )\n",
    "transaction_history = add_a_row_to_transaction_history(\n",
    "    date = date_to_pd_timestamp(day = 7, month = 4, year = 25),\n",
    "    asset = 'NRGV',\n",
    "    market = 'NASDAQ',\n",
    "    amount = 150,\n",
    "    position = 'buy',\n",
    "    house = 'MIDAS',\n",
    "    comment = 'some savings',\n",
    "    transaction_history = transaction_history\n",
    "    )\n",
    "transaction_history = add_a_row_to_transaction_history(\n",
    "    date_to_pd_timestamp(day = 8, month = 4, year = 25), 'TI1', 'TEFAS', 'buy', 10, 'ISBANK', 'carry trade', transaction_history\n",
    "    )\n",
    "transaction_history = add_a_row_to_transaction_history(\n",
    "    date_to_pd_timestamp(day = 5, month = 5, year = 25), 'TI1', 'TEFAS', 'buy', 30, 'ISBANK', 'carry trade', transaction_history\n",
    "    )\n",
    "transaction_history = add_a_row_to_transaction_history(\n",
    "    date_to_pd_timestamp(day = 14, month = 5, year = 25), 'TI1', 'TEFAS', 'buy', 2, 'ISBANK', 'carry trade', transaction_history\n",
    "    )\n",
    "transaction_history = add_a_row_to_transaction_history(\n",
    "    date_to_pd_timestamp(day = 28, month = 5, year = 25), 'TI1', 'TEFAS', 'buy', 17, 'ISBANK', 'carry trade', transaction_history\n",
    "    )\n",
    "transaction_history = add_a_row_to_transaction_history(\n",
    "    date_to_pd_timestamp(day = 28, month = 5, year = 25), 'TI1', 'TEFAS', 'buy', 17, 'ISBANK', 'carry trade', transaction_history\n",
    "    )\n",
    "transaction_history = add_a_row_to_transaction_history(\n",
    "    date_to_pd_timestamp(day = 6, month = 3, year = 25), 'MAC', 'TEFAS', 'buy', 3018, 'ISBANK', 'carry trade to high risk with potential to lower interest by TCMB', transaction_history\n",
    "    )\n",
    "transaction_history = add_a_row_to_transaction_history(\n",
    "    date_to_pd_timestamp(day = 7, month = 4, year = 25), 'MAC', 'TEFAS', 'buy', 2877, 'ISBANK', 'higher risk', transaction_history\n",
    "    )\n",
    "transaction_history = add_a_row_to_transaction_history(\n",
    "    date_to_pd_timestamp(day = 10, month = 4, year = 25), 'MAC', 'TEFAS', 'buy', 1397, 'ISBANK', 'higher risk', transaction_history\n",
    "    )\n",
    "transaction_history = add_a_row_to_transaction_history(\n",
    "    date_to_pd_timestamp(day = 30, month = 5, year = 25), 'MAC', 'TEFAS', 'buy', 298, 'ISBANK', 'higher risk', transaction_history\n",
    "    )\n",
    "transaction_history = add_a_row_to_transaction_history(\n",
    "    date_to_pd_timestamp(day = 13, month = 6, year = 25), 'MAC', 'TEFAS', 'buy', 5640, 'ISBANK', 'higher risk', transaction_history\n",
    "    )\n",
    "transaction_history = add_a_row_to_transaction_history(\n",
    "    date_to_pd_timestamp(day = 3, month = 6, year = 25), 'NVO', 'NYSE', 'buy', 2, 'Revolut', 'higher risk', transaction_history\n",
    "    )"
   ]
  },
  {
   "cell_type": "markdown",
   "metadata": {},
   "source": [
    "# Show transaction history"
   ]
  },
  {
   "cell_type": "code",
   "execution_count": null,
   "metadata": {},
   "outputs": [],
   "source": [
    "transaction_history.head()"
   ]
  },
  {
   "cell_type": "markdown",
   "metadata": {},
   "source": [
    "# Save to a CSV file"
   ]
  },
  {
   "cell_type": "code",
   "execution_count": null,
   "metadata": {},
   "outputs": [],
   "source": [
    "filename = f'{DATA_PATH_USER}/transaction_history.csv'\n",
    "transaction_history.to_csv(filename)"
   ]
  },
  {
   "cell_type": "code",
   "execution_count": null,
   "metadata": {},
   "outputs": [],
   "source": []
  }
 ],
 "metadata": {
  "kernelspec": {
   "display_name": "qtradeenv",
   "language": "python",
   "name": "python3"
  },
  "language_info": {
   "codemirror_mode": {
    "name": "ipython",
    "version": 3
   },
   "file_extension": ".py",
   "mimetype": "text/x-python",
   "name": "python",
   "nbconvert_exporter": "python",
   "pygments_lexer": "ipython3",
   "version": "3.12.11"
  }
 },
 "nbformat": 4,
 "nbformat_minor": 4
}
