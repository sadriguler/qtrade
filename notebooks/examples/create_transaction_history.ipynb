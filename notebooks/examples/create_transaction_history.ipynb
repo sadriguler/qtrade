{
 "cells": [
  {
   "cell_type": "code",
   "execution_count": 1,
   "metadata": {},
   "outputs": [],
   "source": [
    "from src.config import DATA_PATH_USER\n",
    "from src.portfoliomanager import add_a_row_to_transaction_history, date_to_pd_timestamp, define_empty_transaction_history"
   ]
  },
  {
   "cell_type": "markdown",
   "metadata": {},
   "source": [
    "# Create a new transaction history"
   ]
  },
  {
   "cell_type": "code",
   "execution_count": 2,
   "metadata": {},
   "outputs": [],
   "source": [
    "transaction_history = define_empty_transaction_history()"
   ]
  },
  {
   "cell_type": "markdown",
   "metadata": {},
   "source": [
    "# Add Elements to the history"
   ]
  },
  {
   "cell_type": "code",
   "execution_count": 3,
   "metadata": {},
   "outputs": [],
   "source": [
    "transaction_history = add_a_row_to_transaction_history(\n",
    "    date = date_to_pd_timestamp(day = 1, month = 1, year = 25),\n",
    "    asset = 'NRGV',\n",
    "    market = 'NASDAQ',\n",
    "    amount = 77,\n",
    "    position = 'buy',\n",
    "    house = 'MIDAS',\n",
    "    comment = 'some savings',\n",
    "    transaction_history = transaction_history\n",
    "    )\n",
    "transaction_history = add_a_row_to_transaction_history(\n",
    "    date = date_to_pd_timestamp(day = 7, month = 4, year = 25),\n",
    "    asset = 'NRGV',\n",
    "    market = 'NASDAQ',\n",
    "    amount = 150,\n",
    "    position = 'buy',\n",
    "    house = 'MIDAS',\n",
    "    comment = 'some savings',\n",
    "    transaction_history = transaction_history\n",
    "    )\n",
    "transaction_history = add_a_row_to_transaction_history(\n",
    "    date_to_pd_timestamp(day = 8, month = 4, year = 25), 'TI1', 'TEFAS', 'buy', 10, 'ISBANK', 'carry trade', transaction_history\n",
    "    )\n",
    "transaction_history = add_a_row_to_transaction_history(\n",
    "    date_to_pd_timestamp(day = 5, month = 5, year = 25), 'TI1', 'TEFAS', 'buy', 30, 'ISBANK', 'carry trade', transaction_history\n",
    "    )\n",
    "transaction_history = add_a_row_to_transaction_history(\n",
    "    date_to_pd_timestamp(day = 14, month = 5, year = 25), 'TI1', 'TEFAS', 'buy', 2, 'ISBANK', 'carry trade', transaction_history\n",
    "    )\n",
    "transaction_history = add_a_row_to_transaction_history(\n",
    "    date_to_pd_timestamp(day = 28, month = 5, year = 25), 'TI1', 'TEFAS', 'buy', 17, 'ISBANK', 'carry trade', transaction_history\n",
    "    )\n",
    "transaction_history = add_a_row_to_transaction_history(\n",
    "    date_to_pd_timestamp(day = 28, month = 5, year = 25), 'TI1', 'TEFAS', 'buy', 17, 'ISBANK', 'carry trade', transaction_history\n",
    "    )\n",
    "transaction_history = add_a_row_to_transaction_history(\n",
    "    date_to_pd_timestamp(day = 6, month = 3, year = 25), 'MAC', 'TEFAS', 'buy', 3018, 'ISBANK', 'carry trade to high risk with potential to lower interest by TCMB', transaction_history\n",
    "    )\n",
    "transaction_history = add_a_row_to_transaction_history(\n",
    "    date_to_pd_timestamp(day = 7, month = 4, year = 25), 'MAC', 'TEFAS', 'buy', 2877, 'ISBANK', 'higher risk', transaction_history\n",
    "    )\n",
    "transaction_history = add_a_row_to_transaction_history(\n",
    "    date_to_pd_timestamp(day = 10, month = 4, year = 25), 'MAC', 'TEFAS', 'buy', 1397, 'ISBANK', 'higher risk', transaction_history\n",
    "    )\n",
    "transaction_history = add_a_row_to_transaction_history(\n",
    "    date_to_pd_timestamp(day = 30, month = 5, year = 25), 'MAC', 'TEFAS', 'buy', 298, 'ISBANK', 'higher risk', transaction_history\n",
    "    )\n",
    "transaction_history = add_a_row_to_transaction_history(\n",
    "    date_to_pd_timestamp(day = 13, month = 6, year = 25), 'MAC', 'TEFAS', 'buy', 5640, 'ISBANK', 'higher risk', transaction_history\n",
    "    )\n",
    "transaction_history = add_a_row_to_transaction_history(\n",
    "    date_to_pd_timestamp(day = 3, month = 6, year = 25), 'NVO', 'NYSE', 'buy', 2, 'Revolut', 'higher risk', transaction_history\n",
    "    )"
   ]
  },
  {
   "cell_type": "markdown",
   "metadata": {},
   "source": [
    "# Show transaction history"
   ]
  },
  {
   "cell_type": "code",
   "execution_count": 4,
   "metadata": {},
   "outputs": [
    {
     "data": {
      "application/vnd.microsoft.datawrangler.viewer.v0+json": {
       "columns": [
        {
         "name": "index",
         "rawType": "int64",
         "type": "integer"
        },
        {
         "name": "Date",
         "rawType": "datetime64[ns]",
         "type": "datetime"
        },
        {
         "name": "asset",
         "rawType": "object",
         "type": "string"
        },
        {
         "name": "market",
         "rawType": "object",
         "type": "string"
        },
        {
         "name": "amount",
         "rawType": "int64",
         "type": "integer"
        },
        {
         "name": "position",
         "rawType": "object",
         "type": "string"
        },
        {
         "name": "house",
         "rawType": "object",
         "type": "string"
        },
        {
         "name": "comment",
         "rawType": "object",
         "type": "string"
        }
       ],
       "ref": "a3087400-f153-4d07-a27a-1af240ecc6a8",
       "rows": [
        [
         "0",
         "2025-01-01 00:00:00",
         "NRGV",
         "NASDAQ",
         "77",
         "buy",
         "MIDAS",
         "some savings"
        ],
        [
         "7",
         "2025-03-06 00:00:00",
         "MAC",
         "TEFAS",
         "3018",
         "buy",
         "ISBANK",
         "carry trade to high risk with potential to lower interest by TCMB"
        ],
        [
         "1",
         "2025-04-07 00:00:00",
         "NRGV",
         "NASDAQ",
         "150",
         "buy",
         "MIDAS",
         "some savings"
        ],
        [
         "8",
         "2025-04-07 00:00:00",
         "MAC",
         "TEFAS",
         "2877",
         "buy",
         "ISBANK",
         "higher risk"
        ],
        [
         "2",
         "2025-04-08 00:00:00",
         "TI1",
         "TEFAS",
         "10",
         "buy",
         "ISBANK",
         "carry trade"
        ]
       ],
       "shape": {
        "columns": 7,
        "rows": 5
       }
      },
      "text/html": [
       "<div>\n",
       "<style scoped>\n",
       "    .dataframe tbody tr th:only-of-type {\n",
       "        vertical-align: middle;\n",
       "    }\n",
       "\n",
       "    .dataframe tbody tr th {\n",
       "        vertical-align: top;\n",
       "    }\n",
       "\n",
       "    .dataframe thead th {\n",
       "        text-align: right;\n",
       "    }\n",
       "</style>\n",
       "<table border=\"1\" class=\"dataframe\">\n",
       "  <thead>\n",
       "    <tr style=\"text-align: right;\">\n",
       "      <th></th>\n",
       "      <th>Date</th>\n",
       "      <th>asset</th>\n",
       "      <th>market</th>\n",
       "      <th>amount</th>\n",
       "      <th>position</th>\n",
       "      <th>house</th>\n",
       "      <th>comment</th>\n",
       "    </tr>\n",
       "  </thead>\n",
       "  <tbody>\n",
       "    <tr>\n",
       "      <th>0</th>\n",
       "      <td>2025-01-01</td>\n",
       "      <td>NRGV</td>\n",
       "      <td>NASDAQ</td>\n",
       "      <td>77</td>\n",
       "      <td>buy</td>\n",
       "      <td>MIDAS</td>\n",
       "      <td>some savings</td>\n",
       "    </tr>\n",
       "    <tr>\n",
       "      <th>7</th>\n",
       "      <td>2025-03-06</td>\n",
       "      <td>MAC</td>\n",
       "      <td>TEFAS</td>\n",
       "      <td>3018</td>\n",
       "      <td>buy</td>\n",
       "      <td>ISBANK</td>\n",
       "      <td>carry trade to high risk with potential to low...</td>\n",
       "    </tr>\n",
       "    <tr>\n",
       "      <th>1</th>\n",
       "      <td>2025-04-07</td>\n",
       "      <td>NRGV</td>\n",
       "      <td>NASDAQ</td>\n",
       "      <td>150</td>\n",
       "      <td>buy</td>\n",
       "      <td>MIDAS</td>\n",
       "      <td>some savings</td>\n",
       "    </tr>\n",
       "    <tr>\n",
       "      <th>8</th>\n",
       "      <td>2025-04-07</td>\n",
       "      <td>MAC</td>\n",
       "      <td>TEFAS</td>\n",
       "      <td>2877</td>\n",
       "      <td>buy</td>\n",
       "      <td>ISBANK</td>\n",
       "      <td>higher risk</td>\n",
       "    </tr>\n",
       "    <tr>\n",
       "      <th>2</th>\n",
       "      <td>2025-04-08</td>\n",
       "      <td>TI1</td>\n",
       "      <td>TEFAS</td>\n",
       "      <td>10</td>\n",
       "      <td>buy</td>\n",
       "      <td>ISBANK</td>\n",
       "      <td>carry trade</td>\n",
       "    </tr>\n",
       "  </tbody>\n",
       "</table>\n",
       "</div>"
      ],
      "text/plain": [
       "        Date asset  market  amount position   house  \\\n",
       "0 2025-01-01  NRGV  NASDAQ      77      buy   MIDAS   \n",
       "7 2025-03-06   MAC   TEFAS    3018      buy  ISBANK   \n",
       "1 2025-04-07  NRGV  NASDAQ     150      buy   MIDAS   \n",
       "8 2025-04-07   MAC   TEFAS    2877      buy  ISBANK   \n",
       "2 2025-04-08   TI1   TEFAS      10      buy  ISBANK   \n",
       "\n",
       "                                             comment  \n",
       "0                                       some savings  \n",
       "7  carry trade to high risk with potential to low...  \n",
       "1                                       some savings  \n",
       "8                                        higher risk  \n",
       "2                                        carry trade  "
      ]
     },
     "execution_count": 4,
     "metadata": {},
     "output_type": "execute_result"
    }
   ],
   "source": [
    "transaction_history.head()"
   ]
  },
  {
   "cell_type": "markdown",
   "metadata": {},
   "source": [
    "# Save to a CSV file"
   ]
  },
  {
   "cell_type": "code",
   "execution_count": 5,
   "metadata": {},
   "outputs": [],
   "source": [
    "filename = f'{DATA_PATH_USER}/transaction_history.csv'\n",
    "transaction_history.to_csv(filename)"
   ]
  }
 ],
 "metadata": {
  "kernelspec": {
   "display_name": "qtradeenv",
   "language": "python",
   "name": "python3"
  },
  "language_info": {
   "codemirror_mode": {
    "name": "ipython",
    "version": 3
   },
   "file_extension": ".py",
   "mimetype": "text/x-python",
   "name": "python",
   "nbconvert_exporter": "python",
   "pygments_lexer": "ipython3",
   "version": "3.12.11"
  }
 },
 "nbformat": 4,
 "nbformat_minor": 4
}
